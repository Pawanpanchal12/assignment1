{
 "cells": [
  {
   "cell_type": "markdown",
   "id": "ad6558c6",
   "metadata": {},
   "source": [
    "# For Loop "
   ]
  },
  {
   "cell_type": "markdown",
   "id": "aab853cc",
   "metadata": {},
   "source": [
    "Q-1 Write a Python program to print numbers from 1 to 10 using a for loop.\n"
   ]
  },
  {
   "cell_type": "code",
   "execution_count": 1,
   "id": "fb42eac7",
   "metadata": {},
   "outputs": [
    {
     "name": "stdout",
     "output_type": "stream",
     "text": [
      "1\n",
      "2\n",
      "3\n",
      "4\n",
      "5\n",
      "6\n",
      "7\n",
      "8\n",
      "9\n",
      "10\n"
     ]
    }
   ],
   "source": [
    "for i in range(1, 11):\n",
    "    print(i)"
   ]
  },
  {
   "cell_type": "markdown",
   "id": "b71aa456",
   "metadata": {},
   "source": [
    "Q-2 Explain the difference between a for loop and a while loop in Python.\n",
    "\n"
   ]
  },
  {
   "cell_type": "markdown",
   "id": "ec0938b6",
   "metadata": {},
   "source": [
    "For Loop "
   ]
  },
  {
   "cell_type": "markdown",
   "id": "b16692f4",
   "metadata": {},
   "source": [
    "- For loop is used to iterate over a sequence of items.\n",
    "- For loops are designed for iterating over a sequence of items. Eg. list, tuple, etc.\n",
    "- For loop require a sequence to iterate over.\n",
    "- For loop is typically used for iterating over a fixed sequence of items.\n",
    "- For loop is more efficient than a while loop when iterating over sequences, \n",
    "since the number of iterations is predetermined and the loop can be optimized accordingly.\n"
   ]
  },
  {
   "cell_type": "markdown",
   "id": "a3d7af86",
   "metadata": {},
   "source": [
    "While Loop"
   ]
  },
  {
   "cell_type": "markdown",
   "id": "51ce1eaa",
   "metadata": {},
   "source": [
    "- While loop is used to repeatedly execute a block of statements while a condition is true.\n",
    "- While loop is used when the number of iterations is not \n",
    "known in advance or when we want to repeat a block of code until a certain condition is met.\n",
    "- While the loop requires an initial condition that is tested at the beginning of the loop.\n",
    "- While loop is used for more complex control flow situations.\n",
    "- While a loop may be more efficient in certain situations where the condition being tested can be evaluated quickly."
   ]
  },
  {
   "cell_type": "markdown",
   "id": "e36ee116",
   "metadata": {},
   "source": [
    "Q-3 Write a Python program to calculate the sum of all numbers from 1 to 100 using a for loop.\n"
   ]
  },
  {
   "cell_type": "code",
   "execution_count": 2,
   "id": "d3cc9827",
   "metadata": {},
   "outputs": [
    {
     "name": "stdout",
     "output_type": "stream",
     "text": [
      "Please enter the number: 100\n",
      "5050\n"
     ]
    }
   ],
   "source": [
    "num = int(input(\"Please enter the number: \"))\n",
    "\n",
    "sum = 0\n",
    "\n",
    "for value in range(1, num + 1):\n",
    "    sum = sum + value\n",
    "    \n",
    "print(sum)"
   ]
  },
  {
   "cell_type": "markdown",
   "id": "930cf351",
   "metadata": {},
   "source": [
    "Q-4 How do you iterate through a list using a for loop in Python?\n"
   ]
  },
  {
   "cell_type": "code",
   "execution_count": 3,
   "id": "35b53c19",
   "metadata": {},
   "outputs": [
    {
     "name": "stdout",
     "output_type": "stream",
     "text": [
      "Apple\n",
      "Mango\n",
      "Banana\n",
      "Peach\n"
     ]
    }
   ],
   "source": [
    "#Simple loop\n",
    "fruits = [\"Apple\", \"Mango\", \"Banana\", \"Peach\"]\n",
    "for fruit in fruits:\n",
    "  print(fruit)"
   ]
  },
  {
   "cell_type": "code",
   "execution_count": 4,
   "id": "c30e8871",
   "metadata": {},
   "outputs": [
    {
     "name": "stdout",
     "output_type": "stream",
     "text": [
      "Apple juice\n",
      "Mango juice\n",
      "Banana juice\n",
      "Peach juice\n"
     ]
    },
    {
     "data": {
      "text/plain": [
       "[None, None, None, None]"
      ]
     },
     "execution_count": 4,
     "metadata": {},
     "output_type": "execute_result"
    }
   ],
   "source": [
    "#List Comprehension\n",
    "fruits = [\"Apple\", \"Mango\", \"Banana\", \"Peach\"]\n",
    "[print(fruit + \" juice\") for fruit in fruits]"
   ]
  },
  {
   "cell_type": "code",
   "execution_count": 5,
   "id": "73783b3d",
   "metadata": {},
   "outputs": [
    {
     "name": "stdout",
     "output_type": "stream",
     "text": [
      "Mango\n",
      "Banana\n"
     ]
    }
   ],
   "source": [
    "#For loop in range\n",
    "fruits = [\"Apple\", \"Mango\", \"Banana\", \"Peach\"]\n",
    " \n",
    "# Constructs range object containing only 1 and 2\n",
    "for i in range(1, 3):\n",
    "  print(fruits[i])"
   ]
  },
  {
   "cell_type": "markdown",
   "id": "c8dc9e6c",
   "metadata": {},
   "source": [
    "Q-4 Write a Python program to find the product of all elements in a list using a for loop.\n",
    "\n"
   ]
  },
  {
   "cell_type": "code",
   "execution_count": 7,
   "id": "cdee17cb",
   "metadata": {},
   "outputs": [
    {
     "name": "stdout",
     "output_type": "stream",
     "text": [
      "6\n",
      "24\n"
     ]
    }
   ],
   "source": [
    "def multiplyList(myList):\n",
    " \n",
    "    # Multiply elements one by one\n",
    "    result = 1\n",
    "    for x in myList:\n",
    "        result = result * x\n",
    "    return result\n",
    " \n",
    " \n",
    "\n",
    "list1 = [1, 2, 3]\n",
    "list2 = [3, 2, 4]\n",
    "print(multiplyList(list1))\n",
    "print(multiplyList(list2))"
   ]
  },
  {
   "cell_type": "markdown",
   "id": "31693244",
   "metadata": {},
   "source": [
    "Q-5 Create a Python program that prints all even numbers from 1 to 20 using a for loop.\n"
   ]
  },
  {
   "cell_type": "code",
   "execution_count": 10,
   "id": "77e6de79",
   "metadata": {},
   "outputs": [
    {
     "name": "stdout",
     "output_type": "stream",
     "text": [
      "4 6 8 10 12 14 "
     ]
    }
   ],
   "source": [
    "for even_numbers in range(4,15,2):\n",
    "  \n",
    "    print(even_numbers,end=' ')"
   ]
  },
  {
   "cell_type": "markdown",
   "id": "4d479f50",
   "metadata": {},
   "source": [
    "Q-7 Write a Python program that calculates the factorial of a number using a for loop. "
   ]
  },
  {
   "cell_type": "code",
   "execution_count": 11,
   "id": "53f56d4a",
   "metadata": {},
   "outputs": [
    {
     "name": "stdout",
     "output_type": "stream",
     "text": [
      "Enter a number: 5\n",
      "The factorial of 5 is 120\n"
     ]
    }
   ],
   "source": [
    "num = int(input(\"Enter a number: \"))    \n",
    "factorial = 1    \n",
    "if num < 0:    \n",
    "   print(\" Factorial does not exist for negative numbers\")    \n",
    "elif num == 0:    \n",
    "   print(\"The factorial of 0 is 1\")    \n",
    "else:    \n",
    "   for i in range(1,num + 1):    \n",
    "       factorial = factorial*i    \n",
    "   print(\"The factorial of\",num,\"is\",factorial)    "
   ]
  },
  {
   "cell_type": "markdown",
   "id": "2a85e942",
   "metadata": {},
   "source": [
    "Q-8 How can you iterate through the characters of a string using a for loop in Python?\n"
   ]
  },
  {
   "cell_type": "code",
   "execution_count": 12,
   "id": "4e97156f",
   "metadata": {},
   "outputs": [
    {
     "name": "stdout",
     "output_type": "stream",
     "text": [
      "String is: SparkBy\n",
      "Characters of string:\n",
      "0 S\n",
      "1 p\n",
      "2 a\n",
      "3 r\n",
      "4 k\n",
      "5 B\n",
      "6 y\n"
     ]
    }
   ],
   "source": [
    "\n",
    "str = \"SparkBy\"\n",
    "print(\"String is:\", str)\n",
    "\n",
    "# Iterate over the string by index\n",
    "print(\"Characters of string:\")\n",
    "for i in range(0, len(str)):\n",
    "\tprint(i, str[i])\n"
   ]
  },
  {
   "cell_type": "markdown",
   "id": "ac032ab6",
   "metadata": {},
   "source": [
    "Q-9 Write a Python program to find the largest number in a list using a for loop."
   ]
  },
  {
   "cell_type": "code",
   "execution_count": 13,
   "id": "18e3739d",
   "metadata": {},
   "outputs": [
    {
     "name": "stdout",
     "output_type": "stream",
     "text": [
      "Greatest number:  101\n"
     ]
    }
   ],
   "source": [
    "numbers = [1, 2, 3, 5, 9, 6, 101, 88, 66, 6, 101, 55, -1001]\n",
    "maxi = numbers[0]\n",
    "\n",
    "for i in numbers:\n",
    "    if i > maxi:\n",
    "        maxi = i\n",
    "        \n",
    "print(\"Greatest number: \", maxi)"
   ]
  },
  {
   "cell_type": "markdown",
   "id": "c8ed2204",
   "metadata": {},
   "source": [
    "Q-10 Create a Python program that prints the Fibonacci sequence up to a specified limit using a for loop."
   ]
  },
  {
   "cell_type": "code",
   "execution_count": 14,
   "id": "5b65276b",
   "metadata": {},
   "outputs": [
    {
     "name": "stdout",
     "output_type": "stream",
     "text": [
      "0\n",
      "1\n",
      "1\n",
      "2\n",
      "3\n",
      "5\n",
      "8\n",
      "13\n",
      "21\n",
      "34\n"
     ]
    }
   ],
   "source": [
    "first = 0\n",
    "second = 1\n",
    "print(first)\n",
    "print(second)\n",
    "for x in range(1,9):\n",
    "    third = first + second\n",
    "    print(third)\n",
    "    first,second=second,third"
   ]
  },
  {
   "cell_type": "markdown",
   "id": "e6d18d7d",
   "metadata": {},
   "source": [
    "Q-11 Write a Python program to count the number of vowels in a given string using a for loop"
   ]
  },
  {
   "cell_type": "code",
   "execution_count": 1,
   "id": "64c2a6b3",
   "metadata": {},
   "outputs": [
    {
     "name": "stdout",
     "output_type": "stream",
     "text": [
      "4\n"
     ]
    }
   ],
   "source": [
    "string = \"Pawan Panchal!\"\n",
    "vowels = \"aeiouAEIOU\"\n",
    " \n",
    "count = sum(string.count(vowel) for vowel in vowels)\n",
    "print(count)"
   ]
  },
  {
   "cell_type": "markdown",
   "id": "e356b528",
   "metadata": {},
   "source": [
    "Q-12 Create a Python program that generates a multiplication table for a given number using a for loop."
   ]
  },
  {
   "cell_type": "code",
   "execution_count": 3,
   "id": "4940e17f",
   "metadata": {},
   "outputs": [
    {
     "name": "stdout",
     "output_type": "stream",
     "text": [
      "12 x 1 = 12\n",
      "12 x 2 = 24\n",
      "12 x 3 = 36\n",
      "12 x 4 = 48\n",
      "12 x 5 = 60\n",
      "12 x 6 = 72\n",
      "12 x 7 = 84\n",
      "12 x 8 = 96\n",
      "12 x 9 = 108\n",
      "12 x 10 = 120\n"
     ]
    }
   ],
   "source": [
    "num=12\n",
    "for i in range(1, 11):\n",
    "   print(num, 'x', i, '=', num*i)"
   ]
  },
  {
   "cell_type": "markdown",
   "id": "74ed4a19",
   "metadata": {},
   "source": [
    "Q-13 Write a Python program to reverse a list using a for loop.\n"
   ]
  },
  {
   "cell_type": "code",
   "execution_count": 4,
   "id": "f808d052",
   "metadata": {},
   "outputs": [
    {
     "name": "stdout",
     "output_type": "stream",
     "text": [
      "Original List : ['apple', 'banana', 'cherry', 'mango']\n",
      "Reversed List : ['mango', 'cherry', 'banana', 'apple']\n"
     ]
    }
   ],
   "source": [
    "myList = ['apple', 'banana', 'cherry', 'mango']\n",
    "\n",
    "#store reversed list in this\n",
    "reversedList = []\n",
    "\n",
    "#reverse list using for loop\n",
    "for i in range(len(myList)) :\n",
    "    reversedList.append(myList[len(myList) - i - 1])\n",
    "\n",
    "#print lists\n",
    "print(f'Original List : {myList}')\n",
    "print(f'Reversed List : {reversedList}')"
   ]
  },
  {
   "cell_type": "markdown",
   "id": "1d38791c",
   "metadata": {},
   "source": [
    "Q-14 Write a Python program to find the common elements between two lists using a for loop.\n"
   ]
  },
  {
   "cell_type": "code",
   "execution_count": 6,
   "id": "0dd3767f",
   "metadata": {},
   "outputs": [
    {
     "name": "stdout",
     "output_type": "stream",
     "text": [
      "{5}\n",
      "No common elements\n"
     ]
    }
   ],
   "source": [
    "\n",
    "# Python program to find the common elements\n",
    "# in two lists\n",
    "def common_member(a, b):\n",
    "    a_set = set(a)\n",
    "    b_set = set(b)\n",
    " \n",
    "    if (a_set & b_set):\n",
    "        print(a_set & b_set)\n",
    "    else:\n",
    "        print(\"No common elements\")\n",
    "          \n",
    "  \n",
    "a = [1, 2, 3, 4, 5]\n",
    "b = [5, 6, 7, 8, 9]\n",
    "common_member(a, b)\n",
    "  \n",
    "a = [1, 2, 3, 4, 5]\n",
    "b = [6, 7, 8, 9]\n",
    "common_member(a, b)\n",
    "          "
   ]
  },
  {
   "cell_type": "markdown",
   "id": "2e1ddaa2",
   "metadata": {},
   "source": [
    "Q-15 Explain how to use a for loop to iterate through the keys and values of a dictionary in Python.\n"
   ]
  },
  {
   "cell_type": "code",
   "execution_count": 8,
   "id": "d2b4069c",
   "metadata": {},
   "outputs": [
    {
     "name": "stdout",
     "output_type": "stream",
     "text": [
      "key1\n",
      "key2\n",
      "key3\n",
      "['key1', 'key2', 'key3']\n",
      "<class 'list'>\n"
     ]
    }
   ],
   "source": [
    "d = {'key1': 1, 'key2': 2, 'key3': 3}\n",
    "for k in d:\n",
    "    print(k)\n",
    "# key1\n",
    "# key2\n",
    "# key3\n",
    "\n",
    "print(list(d))\n",
    "# ['key1', 'key2', 'key3']\n",
    "\n",
    "print(type(list(d)))\n",
    "# <class 'list'>"
   ]
  },
  {
   "cell_type": "markdown",
   "id": "9fb90040",
   "metadata": {},
   "source": [
    "Q-16 Write a Python program to find the GCD (Greatest Common Divisor) of two numbers using a for loop."
   ]
  },
  {
   "cell_type": "code",
   "execution_count": 9,
   "id": "d3d99161",
   "metadata": {},
   "outputs": [
    {
     "name": "stdout",
     "output_type": "stream",
     "text": [
      "GCD of 50 and 100 is: 50\n"
     ]
    }
   ],
   "source": [
    "x = 50\n",
    "y = 100\n",
    "if x > y:\n",
    "  x, y = y, x\n",
    "for i in range(1,x+1):\n",
    "  if x%i == 0 and y%i == 0:\n",
    "    gcd = i\n",
    "\n",
    "print(\"GCD of\", x, \"and\", y, \"is:\", gcd)"
   ]
  },
  {
   "cell_type": "markdown",
   "id": "4d5e0fb8",
   "metadata": {},
   "source": [
    "Q-17 Create a Python program that checks if a string is a palindrome using a for loop.\n"
   ]
  },
  {
   "cell_type": "code",
   "execution_count": 14,
   "id": "1da22fc1",
   "metadata": {},
   "outputs": [
    {
     "name": "stdout",
     "output_type": "stream",
     "text": [
      "Yes\n"
     ]
    }
   ],
   "source": [
    "def isPalindrome(str):\n",
    " \n",
    "    # Run loop from 0 to len/2\n",
    "    for i in range(0, int(len(str)/2)):\n",
    "        if str[i] != str[len(str)-i-1]:\n",
    "            return False\n",
    "    return True\n",
    " \n",
    "# main function\n",
    "s = \"malayalam\"\n",
    "ans = isPalindrome(s)\n",
    " \n",
    "if (ans):\n",
    "    print(\"Yes\")\n",
    "else:\n",
    "    print(\"No\")"
   ]
  },
  {
   "cell_type": "markdown",
   "id": "23eb4dca",
   "metadata": {},
   "source": [
    "Q-18 Write a Python program to remove duplicates from a list using a for loop.\n"
   ]
  },
  {
   "cell_type": "code",
   "execution_count": 16,
   "id": "3c4bc676",
   "metadata": {},
   "outputs": [
    {
     "name": "stdout",
     "output_type": "stream",
     "text": [
      "['Python', 'R', 'C#', 'Java']\n"
     ]
    }
   ],
   "source": [
    "students = ['Python', 'R', 'C#', 'Python', 'R', 'Java']\n",
    "\n",
    "new_list = []\n",
    "\n",
    "for one_student_choice in students:\n",
    "    if one_student_choice not in new_list:\n",
    "        new_list.append(one_student_choice)\n",
    "\n",
    "print(new_list)\n"
   ]
  },
  {
   "cell_type": "markdown",
   "id": "1cf1ef15",
   "metadata": {},
   "source": [
    "Q-19 Create a Python program that counts the number of words in a sentence using a for loop."
   ]
  },
  {
   "cell_type": "code",
   "execution_count": 17,
   "id": "6a0c33d1",
   "metadata": {},
   "outputs": [
    {
     "name": "stdout",
     "output_type": "stream",
     "text": [
      "Enter the String: \n",
      "pawan\n",
      "\n",
      "Number of Word(s): \n",
      "1\n"
     ]
    }
   ],
   "source": [
    "print(\"Enter the String: \")\n",
    "text = input()\n",
    "\n",
    "chk = 0\n",
    "countWord = 0\n",
    "textLen = len(text)\n",
    "\n",
    "for i in range(textLen):\n",
    "    if text[i]==' ':\n",
    "        if chk!=0:\n",
    "            countWord = countWord+1\n",
    "        chk = 0\n",
    "    else:\n",
    "        chk = chk+1\n",
    "\n",
    "if chk!=0:\n",
    "    countWord = countWord+1\n",
    "\n",
    "print(\"\\nNumber of Word(s): \")\n",
    "print(countWord)"
   ]
  },
  {
   "cell_type": "markdown",
   "id": "68fb5147",
   "metadata": {},
   "source": [
    "Q-20 Write a Python program to find the sum of all odd numbers from 1 to 50 using a for loop."
   ]
  },
  {
   "cell_type": "code",
   "execution_count": 18,
   "id": "41f829e9",
   "metadata": {},
   "outputs": [
    {
     "name": "stdout",
     "output_type": "stream",
     "text": [
      "Sum of Odd Number using for loop \n",
      "Enter the starting value : 10\n",
      "Enter the ending value : 20\n",
      "Sum of odd number is  75\n"
     ]
    }
   ],
   "source": [
    "print(\"Sum of Odd Number using for loop \")\n",
    "\n",
    "start = int(input(\"Enter the starting value : \"))\n",
    "end   = int(input(\"Enter the ending value : \"))\n",
    "\n",
    "result=0\n",
    "\n",
    "for x in range(start,end):\n",
    "    if(x % 2 == 1):\n",
    "        result=result+x\n",
    "        \n",
    "print(\"Sum of odd number is \",result)"
   ]
  },
  {
   "cell_type": "markdown",
   "id": "1599cb77",
   "metadata": {},
   "source": [
    "Q-21 Write a Python program that checks if a given year is a leap year using a for loop.\n"
   ]
  },
  {
   "cell_type": "code",
   "execution_count": 19,
   "id": "fa17b548",
   "metadata": {},
   "outputs": [
    {
     "name": "stdout",
     "output_type": "stream",
     "text": [
      "Please enter the year you would like to start checking leap years from.2020\n",
      "Please enter over how many years you would like to check.3\n",
      "2020 this is a leap year\n",
      "2021 this is a leap year\n",
      "2022 this is a leap year\n"
     ]
    }
   ],
   "source": [
    "year = int(input(\"Please enter the year you would like to start checking leap years from.\"))\n",
    "total_years = int(input(\"Please enter over how many years you would like to check.\"))\n",
    "leap_year= 0\n",
    "\n",
    "if year % 4 == 0 and (year % 100 != 0 or year % 400 == 0):   \n",
    "   leap_year = (\"this is a leap year\")\n",
    "\n",
    "else:\n",
    "   leap_year = (\"this is not a leap year\")\n",
    "\n",
    "for a in range (0,total_years):\n",
    "    print(year + a, leap_year)"
   ]
  },
  {
   "cell_type": "markdown",
   "id": "2677c0dd",
   "metadata": {},
   "source": [
    "Q-22 Create a Python program that calculates the square root of a number using a for loop.\n"
   ]
  },
  {
   "cell_type": "code",
   "execution_count": 20,
   "id": "d3ee96bd",
   "metadata": {},
   "outputs": [
    {
     "ename": "SyntaxError",
     "evalue": "invalid syntax (3556999595.py, line 2)",
     "output_type": "error",
     "traceback": [
      "\u001b[0;36m  Cell \u001b[0;32mIn[20], line 2\u001b[0;36m\u001b[0m\n\u001b[0;31m    for i in range(2, int((math.sqrt(n))+1):\u001b[0m\n\u001b[0m                                           ^\u001b[0m\n\u001b[0;31mSyntaxError\u001b[0m\u001b[0;31m:\u001b[0m invalid syntax\n"
     ]
    }
   ],
   "source": [
    "import math\n",
    "for i in range(2, int((math.sqrt(n))+1):"
   ]
  },
  {
   "cell_type": "markdown",
   "id": "55a46964",
   "metadata": {},
   "source": [
    "Q-23 Write a Python program to find the LCM (Least Common Multiple) of two numbers using a for loop.\n"
   ]
  },
  {
   "cell_type": "code",
   "execution_count": 21,
   "id": "299bc919",
   "metadata": {},
   "outputs": [
    {
     "name": "stdout",
     "output_type": "stream",
     "text": [
      "LCM of 20 and 25 is: 100.0\n"
     ]
    }
   ],
   "source": [
    "x = 20\n",
    "y = 25\n",
    "if x > y:\n",
    "  x, y = y, x\n",
    "for i in range(1,x+1):\n",
    "  if x%i == 0 and y%i == 0:\n",
    "    gcd = i\n",
    "\n",
    "lcm = (x*y)/gcd\n",
    "\n",
    "print(\"LCM of\", x, \"and\", y, \"is:\", lcm)"
   ]
  },
  {
   "cell_type": "markdown",
   "id": "82597ced",
   "metadata": {},
   "source": [
    "# IF Else Statements"
   ]
  },
  {
   "cell_type": "markdown",
   "id": "15dc50ca",
   "metadata": {},
   "source": [
    "Q-1 Write a Python program to check if a number is positive, negative, or zero using an if-else statements"
   ]
  },
  {
   "cell_type": "code",
   "execution_count": 24,
   "id": "ad7d7689",
   "metadata": {},
   "outputs": [
    {
     "name": "stdout",
     "output_type": "stream",
     "text": [
      "Input a number: 7\n",
      "Number is Positive number.\n"
     ]
    }
   ],
   "source": [
    "n = float(input(\"Input a number: \"))\n",
    "if n >= 0:\n",
    "  if n == 0:\n",
    "      print(\"It is Zero!\")\n",
    "  else:\n",
    "      print(\"Number is Positive number.\")\n",
    "else:\n",
    "  print(\"Number is Negative number.\")"
   ]
  },
  {
   "cell_type": "markdown",
   "id": "8e24c306",
   "metadata": {},
   "source": [
    "Q-2 Create a Python program that checks if a given number is even or odd using an if-else statement.\n"
   ]
  },
  {
   "cell_type": "code",
   "execution_count": 3,
   "id": "dd72b503",
   "metadata": {},
   "outputs": [
    {
     "name": "stdout",
     "output_type": "stream",
     "text": [
      "Enter a number: 7\n",
      "7 is Odd\n"
     ]
    }
   ],
   "source": [
    "num = int(input(\"Enter a number: \"))\n",
    "if (num % 2) == 0:\n",
    "   print(\"{0} is Even\".format(num))\n",
    "else:\n",
    "   print(\"{0} is Odd\".format(num))\n",
    "\n"
   ]
  },
  {
   "cell_type": "markdown",
   "id": "5e607e60",
   "metadata": {},
   "source": [
    "Q-3 How can you use nested if-else statements in Python, and provide an example?\n"
   ]
  },
  {
   "cell_type": "code",
   "execution_count": 4,
   "id": "12653bbf",
   "metadata": {},
   "outputs": [
    {
     "name": "stdout",
     "output_type": "stream",
     "text": [
      "The number is positive and even.\n"
     ]
    }
   ],
   "source": [
    "# Simpler example of a nested if-else statement\n",
    "num = 10\n",
    "\n",
    "if num > 0:\n",
    "    if num % 2 == 0:\n",
    "        print(\"The number is positive and even.\")\n",
    "    else:\n",
    "        print(\"The number is positive but odd.\")\n",
    "else:\n",
    "    print(\"The number is not positive.\")\n"
   ]
  },
  {
   "cell_type": "markdown",
   "id": "4ee54d67",
   "metadata": {},
   "source": [
    "Q-4 Write a Python program to determine the largest of three numbers using if-else."
   ]
  },
  {
   "cell_type": "code",
   "execution_count": 6,
   "id": "ba699b8e",
   "metadata": {},
   "outputs": [
    {
     "name": "stdout",
     "output_type": "stream",
     "text": [
      "The largest number is 14\n"
     ]
    }
   ],
   "source": [
    "num1 = 10\n",
    "num2 = 14\n",
    "num3 = 12\n",
    "\n",
    "\n",
    "\n",
    "if (num1 >= num2) and (num1 >= num3):\n",
    "   largest = num1\n",
    "elif (num2 >= num1) and (num2 >= num3):\n",
    "   largest = num2\n",
    "else:\n",
    "   largest = num3\n",
    "\n",
    "print(\"The largest number is\", largest)"
   ]
  },
  {
   "cell_type": "markdown",
   "id": "c5c6a943",
   "metadata": {},
   "source": [
    "Q-5 Write a Python program that calculates the absolute value of a number using if-else.\n"
   ]
  },
  {
   "cell_type": "code",
   "execution_count": 9,
   "id": "58aea5f5",
   "metadata": {},
   "outputs": [
    {
     "name": "stdout",
     "output_type": "stream",
     "text": [
      "Absolute value of 5 =  5\n",
      "Absolute value of -5 =  5\n"
     ]
    }
   ],
   "source": [
    "def getAbsoluteValue(value):\n",
    "   \n",
    "   if(value<0):\n",
    "     \n",
    "      return -value\n",
    "   \n",
    "   return value\n",
    "\n",
    "print(\"Absolute value of 5 = \", getAbsoluteValue(5))\n",
    "\n",
    "print(\"Absolute value of -5 = \", getAbsoluteValue(-5))"
   ]
  },
  {
   "cell_type": "markdown",
   "id": "6ebeca8e",
   "metadata": {},
   "source": [
    "Q-6 Create a Python program that checks if a given character is a vowel or consonant using if-else.\n"
   ]
  },
  {
   "cell_type": "code",
   "execution_count": 10,
   "id": "e3bfeeb6",
   "metadata": {},
   "outputs": [
    {
     "name": "stdout",
     "output_type": "stream",
     "text": [
      "Enter a character: pawan\n",
      "The character 'pawan' is a consonant!\n"
     ]
    }
   ],
   "source": [
    "character = input(\"Enter a character: \")  \n",
    "  \n",
    "# Creating a list of vowels  \n",
    "vowels = ['a', 'e', 'i', 'o', 'u', 'A', 'E', 'I', 'O', 'U']  \n",
    "  \n",
    "# Check if the character is a vowel or not  \n",
    "if character in vowels:  \n",
    "    print(f\"The character '{character}' is a vowel!\")  \n",
    "else:  \n",
    "    print(f\"The character '{character}' is a consonant!\")  "
   ]
  },
  {
   "cell_type": "markdown",
   "id": "c557a2fe",
   "metadata": {},
   "source": [
    "Q-7 Write a Python program to determine if a user is eligible to vote based on their age using if-else.\n"
   ]
  },
  {
   "cell_type": "code",
   "execution_count": 11,
   "id": "f61cfca5",
   "metadata": {},
   "outputs": [
    {
     "name": "stdout",
     "output_type": "stream",
     "text": [
      "Enter age : 13\n",
      "Not Eligible for Voting!\n"
     ]
    }
   ],
   "source": [
    "age = int(input(\"Enter age : \"))\n",
    "\n",
    "if age >= 18:\n",
    "    print(\"Eligible for Voting!\")\n",
    "else:\n",
    "    print(\"Not Eligible for Voting!\")"
   ]
  },
  {
   "cell_type": "markdown",
   "id": "caf3e8fd",
   "metadata": {},
   "source": [
    "Q-8 Create a Python program that calculates the discount amount based on the purchase amount using if-else.\n"
   ]
  },
  {
   "cell_type": "code",
   "execution_count": 13,
   "id": "e6903721",
   "metadata": {},
   "outputs": [
    {
     "name": "stdout",
     "output_type": "stream",
     "text": [
      "Enter Sale Amount: 7000\n",
      "Discount :  840.0\n",
      "Net Pay  :  6160.0\n"
     ]
    }
   ],
   "source": [
    "amt = int(input(\"Enter Sale Amount: \"))\n",
    "\n",
    "# checking conditions and calculating discount\n",
    "if(amt>0):\n",
    "    if amt<=5000:\n",
    "       disc = amt*0.05\n",
    "    elif amt<=15000:\n",
    "        disc=amt*0.12\n",
    "    elif amt<=25000:\n",
    "        disc=0.2 * amt\n",
    "    else:\n",
    "         disc=0.3 * amt\n",
    "\n",
    "    print(\"Discount : \",disc)\n",
    "    print(\"Net Pay  : \",amt-disc)\n",
    "else:\n",
    "    print(\"Invalid Amount\")"
   ]
  },
  {
   "cell_type": "markdown",
   "id": "33a64b8e",
   "metadata": {},
   "source": [
    "Q-9 Write a Python program to check if a number is within a specified range using if-else.\n"
   ]
  },
  {
   "cell_type": "code",
   "execution_count": 14,
   "id": "694e9f1a",
   "metadata": {},
   "outputs": [
    {
     "name": "stdout",
     "output_type": "stream",
     "text": [
      "Enter a number : 6\n",
      "6 is not present in the range.\n"
     ]
    }
   ],
   "source": [
    "range_1 = range(2, 20, 3)\n",
    "number = int(input('Enter a number : '))\n",
    " \n",
    "if number in range_1 :\n",
    "    print(number, 'is present in the range.')\n",
    "else :\n",
    "    print(number, 'is not present in the range.')"
   ]
  },
  {
   "cell_type": "markdown",
   "id": "f4e351ab",
   "metadata": {},
   "source": [
    "Q-10 Create a Python program that determines the grade of a student based on their score using if-else.\n"
   ]
  },
  {
   "cell_type": "code",
   "execution_count": 16,
   "id": "8bd9e857",
   "metadata": {},
   "outputs": [
    {
     "name": "stdout",
     "output_type": "stream",
     "text": [
      "Enter Marks Obtained in 5 Subjects: \n",
      "78\n",
      "89\n",
      "90\n",
      "98\n",
      "67\n",
      "Your Grade is A2\n"
     ]
    }
   ],
   "source": [
    "print(\"Enter Marks Obtained in 5 Subjects: \")\n",
    "markOne = int(input())\n",
    "markTwo = int(input())\n",
    "markThree = int(input())\n",
    "markFour = int(input())\n",
    "markFive = int(input())\n",
    "\n",
    "tot = markOne+markTwo+markThree+markFour+markFive\n",
    "avg = tot/5\n",
    "\n",
    "if avg>=91 and avg<=100:\n",
    "    print(\"Your Grade is A1\")\n",
    "elif avg>=81 and avg<91:\n",
    "    print(\"Your Grade is A2\")\n",
    "elif avg>=71 and avg<81:\n",
    "    print(\"Your Grade is B1\")\n",
    "elif avg>=61 and avg<71:\n",
    "    print(\"Your Grade is B2\")\n",
    "elif avg>=51 and avg<61:\n",
    "    print(\"Your Grade is C1\")\n",
    "elif avg>=41 and avg<51:\n",
    "    print(\"Your Grade is C2\")\n",
    "elif avg>=33 and avg<41:\n",
    "    print(\"Your Grade is D\")\n",
    "elif avg>=21 and avg<33:\n",
    "    print(\"Your Grade is E1\")\n",
    "elif avg>=0 and avg<21:\n",
    "    print(\"Your Grade is E2\")\n",
    "else:\n",
    "    print(\"Invalid Input!\")"
   ]
  },
  {
   "cell_type": "markdown",
   "id": "f5df6b93",
   "metadata": {},
   "source": [
    "Q-11 Write a Python program to check if a string is empty or not using if-else.\n"
   ]
  },
  {
   "cell_type": "code",
   "execution_count": 17,
   "id": "70036dd2",
   "metadata": {},
   "outputs": [
    {
     "name": "stdout",
     "output_type": "stream",
     "text": [
      "string, string1 = '', with no spaces is empty\n",
      "string, string2 = '   ', with spaces is not empty\n"
     ]
    }
   ],
   "source": [
    "string1 = \"\"  \n",
    "string2 = \"   \"  \n",
    "  \n",
    "if not string1:  \n",
    "    print(f\"string, string1 = '{string1}', with no spaces is empty\")  \n",
    "else:  \n",
    "    print(f\"string, string1 = '{string1}', with no spaces is not empty\")  \n",
    "       \n",
    "if not string2:  \n",
    "    print(f\"string, string2 = '{string2}', with spaces is empty\")  \n",
    "else:  \n",
    "    print(f\"string, string2 = '{string2}', with spaces is not empty\")  "
   ]
  },
  {
   "cell_type": "markdown",
   "id": "6f3a4568",
   "metadata": {},
   "source": [
    "Q-12 Create a Python program that identifies the type of a triangle (e.g., equilateral, isosceles, or scalene) based on input values using if-else.\n"
   ]
  },
  {
   "cell_type": "code",
   "execution_count": 18,
   "id": "c6cc9ec0",
   "metadata": {},
   "outputs": [
    {
     "name": "stdout",
     "output_type": "stream",
     "text": [
      "Input lengths of the triangle sides: \n",
      "x: 6\n",
      "y: 7\n",
      "z: 8\n",
      "Scalene triangle\n"
     ]
    }
   ],
   "source": [
    "print(\"Input lengths of the triangle sides: \")\n",
    "x = int(input(\"x: \"))\n",
    "y = int(input(\"y: \"))\n",
    "z = int(input(\"z: \"))\n",
    "\n",
    "if x == y == z:\n",
    "\tprint(\"Equilateral triangle\")\n",
    "elif x==y or y==z or z==x:\n",
    "\tprint(\"isosceles triangle\")\n",
    "else:\n",
    "\tprint(\"Scalene triangle\")"
   ]
  },
  {
   "cell_type": "markdown",
   "id": "2f6e131f",
   "metadata": {},
   "source": [
    "Q-13 Write a Python program to determine the day of the week based on a user-provided number using if-else.\n"
   ]
  },
  {
   "cell_type": "code",
   "execution_count": 19,
   "id": "eff74e37",
   "metadata": {},
   "outputs": [
    {
     "name": "stdout",
     "output_type": "stream",
     "text": [
      "Enter a number from 1 to 7: 5\n",
      "5 is Thursday\n"
     ]
    }
   ],
   "source": [
    "day = int(input(\"Enter a number from 1 to 7: \"))\n",
    "\n",
    "if day == 1:\n",
    "    print(day, \"is Sunday\")\n",
    "elif day == 2:\n",
    "    print(day, \"is Monday\")\n",
    "elif day == 3:\n",
    "    print(day, \"is Tuesday\")\n",
    "elif day == 4:\n",
    "    print(day, \"is Wednesday\")\n",
    "elif day == 5:\n",
    "    print(day, \"is Thursday\")\n",
    "elif day == 6:\n",
    "    print(day, \"is Friday\")\n",
    "elif day == 7:\n",
    "    print(day, \"is Saturday\")\n",
    "else:\n",
    "    print(\"Wrong input! Please enter a number from 1 to 7.\")"
   ]
  },
  {
   "cell_type": "markdown",
   "id": "4f287f46",
   "metadata": {},
   "source": [
    "Q-14 Create a Python program that checks if a given year is a leap year using both if-else and a function."
   ]
  },
  {
   "cell_type": "code",
   "execution_count": 21,
   "id": "90e9f637",
   "metadata": {},
   "outputs": [
    {
     "name": "stdout",
     "output_type": "stream",
     "text": [
      "Enter year to be checked:1990\n",
      "The year isn't a leap year!\n"
     ]
    }
   ],
   "source": [
    "year=int(input(\"Enter year to be checked:\"))\n",
    "if(year%4==0 and year%100!=0 or year%400==0):\n",
    "    print(\"The year is a leap year!\")\n",
    "else:\n",
    "    print(\"The year isn't a leap year!\")"
   ]
  },
  {
   "cell_type": "markdown",
   "id": "10b5a184",
   "metadata": {},
   "source": [
    "Q-15 How do you use the \"assert\" statement in Python to add debugging checks within if-else blocks?\n"
   ]
  },
  {
   "cell_type": "code",
   "execution_count": 22,
   "id": "741b2226",
   "metadata": {},
   "outputs": [
    {
     "name": "stdout",
     "output_type": "stream",
     "text": [
      "y cannot be zero\n"
     ]
    }
   ],
   "source": [
    "def division(x,y):\n",
    "  assert y!=0, \"y cannot be zero\"\n",
    "  \n",
    "  print(x/y)\n",
    "  \n",
    "#call division() function in try block\n",
    "try:\n",
    "  division(10,0)\n",
    "except AssertionError as msg:\n",
    "  print(msg)"
   ]
  },
  {
   "cell_type": "markdown",
   "id": "ffa630de",
   "metadata": {},
   "source": [
    "Q-16 Create a Python program that determines the eligibility of a person for a senior citizen discount based on age using if-else.\n"
   ]
  },
  {
   "cell_type": "code",
   "execution_count": 28,
   "id": "12a818a6",
   "metadata": {},
   "outputs": [],
   "source": [
    "def main():\n",
    "    age = eval(input(\"How old are you?: \"))\n",
    "    state = input(\"What state do you live in?: \")\n",
    "\n",
    "    if age >= 70:\n",
    "        print(\"You qualify for a discount!\")\n",
    "\n",
    "        if state == \"Florida\":\n",
    "              print(\"You qualify for a discount!\")\n",
    "        else:\n",
    "              print(\"You do not qualify for a discount!\")\n",
    "    else:\n",
    "        print(\"You do not qualify for a discount!\")\n"
   ]
  },
  {
   "cell_type": "code",
   "execution_count": 29,
   "id": "b687b030",
   "metadata": {},
   "outputs": [
    {
     "name": "stdout",
     "output_type": "stream",
     "text": [
      "You do not qualify for a discount!\n"
     ]
    }
   ],
   "source": [
    "if age >= 70 and state == \"Florida\":\n",
    "    print(\"You qualify for a discount!\")\n",
    "else:\n",
    "    print(\"You do not qualify for a discount!\")"
   ]
  },
  {
   "cell_type": "markdown",
   "id": "bf9320c2",
   "metadata": {},
   "source": [
    "Q-17 Write a Python program to categorize a given character as uppercase, lowercase, or neither using if-else.\n"
   ]
  },
  {
   "cell_type": "code",
   "execution_count": 30,
   "id": "a2d38cd8",
   "metadata": {},
   "outputs": [],
   "source": [
    "def check(ch):\n",
    " \n",
    "    if (ch >= 'A' and ch <= 'Z'):\n",
    "        print(ch,\"is an UpperCase character\");\n",
    " \n",
    "    elif (ch >= 'a' and ch <= 'z'):\n",
    "        print(ch,\"is an LowerCase character\");\n",
    "    else:\n",
    "        print(ch,\"is not an alphabetic character\");\n",
    " "
   ]
  },
  {
   "cell_type": "code",
   "execution_count": 31,
   "id": "0197de44",
   "metadata": {},
   "outputs": [
    {
     "name": "stdout",
     "output_type": "stream",
     "text": [
      "A is an UpperCase character\n",
      "a is an LowerCase character\n",
      "0 is not an alphabetic character\n"
     ]
    }
   ],
   "source": [
    "ch = 'A';\n",
    " \n",
    "# Check the character\n",
    "check(ch);\n",
    " \n",
    "# Get the character\n",
    "ch = 'a';\n",
    " \n",
    "# Check the character\n",
    "check(ch);\n",
    " \n",
    "# Get the character\n",
    "ch = '0';\n",
    " \n",
    "# Check the character\n",
    "check(ch);"
   ]
  },
  {
   "cell_type": "markdown",
   "id": "d1c5adab",
   "metadata": {},
   "source": [
    "Q-18 Write a Python program to determine the roots of a quadratic equation using if-else.\n"
   ]
  },
  {
   "cell_type": "code",
   "execution_count": 34,
   "id": "819d38b9",
   "metadata": {},
   "outputs": [],
   "source": [
    "import math\n",
    " \n",
    "def equationroots( a, b, c):\n",
    " \n",
    "    # calculating discriminant using formula\n",
    "    dis = b * b - 4 * a * c\n",
    "    sqrt_val = math.sqrt(abs(dis))\n",
    "     \n",
    "    # checking condition for discriminant\n",
    "    if dis > 0:\n",
    "        print(\"real and different roots\")\n",
    "        print((-b + sqrt_val)/(2 * a))\n",
    "        print((-b - sqrt_val)/(2 * a))\n",
    "     \n",
    "    elif dis == 0:\n",
    "        print(\"real and same roots\")\n",
    "        print(-b / (2 * a))\n",
    "     \n",
    "    # when discriminant is less than 0\n",
    "    else:\n",
    "        print(\"Complex Roots\")\n",
    "        print(- b / (2 * a), + i, sqrt_val)\n",
    "        print(- b / (2 * a), - i, sqrt_val)"
   ]
  },
  {
   "cell_type": "code",
   "execution_count": 35,
   "id": "79400952",
   "metadata": {},
   "outputs": [
    {
     "name": "stdout",
     "output_type": "stream",
     "text": [
      "real and different roots\n",
      "2.0\n",
      "-12.0\n"
     ]
    }
   ],
   "source": [
    "a = 1\n",
    "b = 10\n",
    "c = -24\n",
    " \n",
    "# If a is 0, then incorrect equation\n",
    "if a == 0:\n",
    "        print(\"Input correct quadratic equation\")\n",
    " \n",
    "else:\n",
    "    equationroots(a, b, c)"
   ]
  },
  {
   "cell_type": "markdown",
   "id": "831a4dea",
   "metadata": {},
   "source": [
    "Q-19 Create a Python program that checks if a given year is a century year or not using if-else.\n"
   ]
  },
  {
   "cell_type": "code",
   "execution_count": 37,
   "id": "9b72f6b2",
   "metadata": {},
   "outputs": [],
   "source": [
    "def check_leap_year(year):\n",
    "   \n",
    "    if year % 4 == 0:\n",
    "        if year % 100 == 0:\n",
    "            if year % 400 == 0:\n",
    "                print(f\"{year} is a leap year\")\n",
    "            else:\n",
    "                print(f\"{year} is not a leap year\")\n",
    "        else:\n",
    "            print(f\"{year} is a leap year\")\n",
    "    else:\n",
    "        print(f\"{year} is not a leap year\")"
   ]
  },
  {
   "cell_type": "code",
   "execution_count": 38,
   "id": "4b7aa46a",
   "metadata": {},
   "outputs": [
    {
     "name": "stdout",
     "output_type": "stream",
     "text": [
      "2000 is a leap year\n",
      "2016 is a leap year\n",
      "2100 is not a leap year\n"
     ]
    }
   ],
   "source": [
    "check_leap_year(2000)  # This 2000 is a leap year\n",
    "check_leap_year(2016)  # This 2016 is a leap year\n",
    "check_leap_year(2100)  # This 2100 is not a leap year\n"
   ]
  },
  {
   "cell_type": "markdown",
   "id": "8255cdb4",
   "metadata": {},
   "source": [
    "Q-20 Write a Python program to determine if a given number is a perfect square using if-else.\n"
   ]
  },
  {
   "cell_type": "code",
   "execution_count": 39,
   "id": "8c026d0b",
   "metadata": {},
   "outputs": [
    {
     "name": "stdout",
     "output_type": "stream",
     "text": [
      "The number is a perfect square\n"
     ]
    }
   ],
   "source": [
    "import math  \n",
    "num = 25  \n",
    "sqrt_num = math.sqrt(num)  \n",
    "if sqrt_num.is_integer():  \n",
    "    print(\"The number is a perfect square\")  \n",
    "else:  \n",
    "    print(\"The number is not a perfect square\")  "
   ]
  },
  {
   "cell_type": "markdown",
   "id": "101fff4f",
   "metadata": {},
   "source": [
    "Q-21 Explain the purpose of the \"continue\" and \"break\" statements within if-else loops.\n"
   ]
  },
  {
   "cell_type": "markdown",
   "id": "7343fa52",
   "metadata": {},
   "source": [
    "The break and continue statements in Python are used to skip parts of the current loop or break out of the loop completely.\n",
    "\n",
    "The break statement can be used if you need to break out of a for or while loop and move onto the next section of code.\n",
    "\n",
    "The continue statement can be used if you need to skip the current iteration of a for or while loop and move onto the next iteration.\n",
    "\n"
   ]
  },
  {
   "cell_type": "raw",
   "id": "cfbed926",
   "metadata": {},
   "source": [
    "# Q-22 Create a Python program that calculates the BMI (Body Mass Index) of a person based on their weight and height using if-else.\n"
   ]
  },
  {
   "cell_type": "code",
   "execution_count": 40,
   "id": "24829ca0",
   "metadata": {},
   "outputs": [
    {
     "name": "stdout",
     "output_type": "stream",
     "text": [
      "Enter the height in cm: 180\n",
      "Enter the weight in kg: 56\n",
      "Your Body Mass Index is 17.28395061728395\n",
      "Oops! You are underweight.\n"
     ]
    }
   ],
   "source": [
    "the_height = float(input(\"Enter the height in cm: \"))  \n",
    "the_weight = float(input(\"Enter the weight in kg: \"))  \n",
    "\n",
    "the_BMI = the_weight / (the_height/100)**2  \n",
    "\n",
    "print(\"Your Body Mass Index is\", the_BMI)  \n",
    "if the_BMI <= 18.5:  \n",
    "    print(\"Oops! You are underweight.\")  \n",
    "elif the_BMI <= 24.9:  \n",
    "    print(\"Awesome! You are healthy.\")  \n",
    "elif the_BMI <= 29.9:  \n",
    "    the_print(\"Eee! You are overweight.\")  \n",
    "else:  \n",
    "    print(\"Seesh! You are obese.\")  "
   ]
  },
  {
   "cell_type": "markdown",
   "id": "a513662c",
   "metadata": {},
   "source": [
    "# Map"
   ]
  },
  {
   "cell_type": "markdown",
   "id": "f79b1afa",
   "metadata": {},
   "source": [
    "Q-1 Explain the purpose of the `map()` function in Python and provide an example of how it can be used to apply a function to each element of an iterable.\n"
   ]
  },
  {
   "cell_type": "markdown",
   "id": "9dcd4840",
   "metadata": {},
   "source": [
    "Map in Python is a function that works as an iterator to return a result after applying a function to every item of an iterable (tuple, lists, etc.). It is used when you want to apply a single transformation function to all the iterable elements. The iterable and function are passed as arguments to the map in Python."
   ]
  },
  {
   "cell_type": "code",
   "execution_count": 7,
   "id": "05fe3006",
   "metadata": {},
   "outputs": [
    {
     "name": "stdout",
     "output_type": "stream",
     "text": [
      "[2, 4, 6, 8]\n"
     ]
    }
   ],
   "source": [
    "def addition(n): \n",
    "    return n + n \n",
    "  \n",
    "\n",
    "numbers = (1, 2, 3, 4) \n",
    "result = map(addition, numbers) \n",
    "print(list(result)) "
   ]
  },
  {
   "cell_type": "markdown",
   "id": "58055875",
   "metadata": {},
   "source": [
    "Q-2 Write a Python program that uses the `map()` function to square each element of a list of numbers."
   ]
  },
  {
   "cell_type": "code",
   "execution_count": 9,
   "id": "82242edf",
   "metadata": {},
   "outputs": [
    {
     "name": "stdout",
     "output_type": "stream",
     "text": [
      "Original List:  [4, 5, 2, 9]\n",
      "Square the elements of the said list using map():\n",
      "[16, 25, 4, 81]\n"
     ]
    }
   ],
   "source": [
    "def square_num(n):\n",
    "    return n * n\n",
    "nums = [4, 5, 2, 9]\n",
    "print(\"Original List: \",nums)\n",
    "result = map(square_num, nums)\n",
    "print(\"Square the elements of the said list using map():\")\n",
    "print(list(result))"
   ]
  },
  {
   "cell_type": "markdown",
   "id": "652651d0",
   "metadata": {},
   "source": [
    "Q-3 How does the `map()` function differ from a list comprehension in Python, and when would you choose one over the other?"
   ]
  },
  {
   "cell_type": "markdown",
   "id": "872270cb",
   "metadata": {},
   "source": [
    "List comprehension are used when a list of results is required as map only returns a map object and does not return any list. Map is faster in case of calling an already defined function (as no lambda is required).Jan 30, 2020"
   ]
  },
  {
   "cell_type": "markdown",
   "id": "973798e4",
   "metadata": {},
   "source": [
    "Q-4 Create a Python program that uses the `map()` function to convert a list of names to uppercase."
   ]
  },
  {
   "cell_type": "code",
   "execution_count": 12,
   "id": "9cc20fcc",
   "metadata": {},
   "outputs": [
    {
     "name": "stdout",
     "output_type": "stream",
     "text": [
      "['PWSKILLS', 'FOR', 'CODING']\n"
     ]
    }
   ],
   "source": [
    "out = map(lambda x:x.upper(), ['pwskills', 'FOR', 'coding'])\n",
    " \n",
    "# Converting it into list\n",
    "output = list(out)\n",
    " \n",
    "# printing output\n",
    "print(output)"
   ]
  },
  {
   "cell_type": "markdown",
   "id": "1a296892",
   "metadata": {},
   "source": [
    "Q-5 Write a Python program that uses the `map()` function to calculate the length of each word in a list of strings."
   ]
  },
  {
   "cell_type": "code",
   "execution_count": 14,
   "id": "ab3253da",
   "metadata": {},
   "outputs": [
    {
     "name": "stdout",
     "output_type": "stream",
     "text": [
      "The original string is : Pwskills is best platform for datascience\n",
      "The list of words lengths is : [8, 2, 4, 8, 3, 11]\n"
     ]
    }
   ],
   "source": [
    "test_string = \"Pwskills is best platform for datascience\"\n",
    " \n",
    "# Printing original string\n",
    "print(\"The original string is : \" + test_string)\n",
    " \n",
    "# Words lengths in String\n",
    "# using split() method\n",
    "res = list(map(len, test_string.split()))\n",
    " \n",
    "# Printing result\n",
    "print(\"The list of words lengths is : \" + str(res))"
   ]
  },
  {
   "cell_type": "markdown",
   "id": "80cb1cbd",
   "metadata": {},
   "source": [
    "Q-6 How can you use the `map()` function to apply a custom function to elements of multiple lists simultaneously in Python?\n"
   ]
  },
  {
   "cell_type": "markdown",
   "id": "2c6b52b1",
   "metadata": {},
   "source": [
    "In the same way as lambda functions or our own defined functions, we can use Python built-in functions with map() . To apply a function with multiple iterables, we pass in another iterable name following the first one."
   ]
  },
  {
   "cell_type": "markdown",
   "id": "6d3954f5",
   "metadata": {},
   "source": [
    "Q-7 Create a Python program that uses `map()` to convert a list of temperatures from Celsius to Fahrenheit."
   ]
  },
  {
   "cell_type": "code",
   "execution_count": 25,
   "id": "85fb04e4",
   "metadata": {},
   "outputs": [
    {
     "ename": "SyntaxError",
     "evalue": "Missing parentheses in call to 'print'. Did you mean print(...)? (2254399552.py, line 3)",
     "output_type": "error",
     "traceback": [
      "\u001b[0;36m  Cell \u001b[0;32mIn[25], line 3\u001b[0;36m\u001b[0m\n\u001b[0;31m    print Fahrenheit\u001b[0m\n\u001b[0m    ^\u001b[0m\n\u001b[0;31mSyntaxError\u001b[0m\u001b[0;31m:\u001b[0m Missing parentheses in call to 'print'. Did you mean print(...)?\n"
     ]
    }
   ],
   "source": [
    "Celsius = [26.2, 33.2, 29.3, 32.4]\n",
    "Fahrenheit = map(lambda x: (float(9)/5)*x + 32, Celsius)\n",
    "print Fahrenheit"
   ]
  },
  {
   "cell_type": "markdown",
   "id": "a69b5f93",
   "metadata": {},
   "source": [
    "# Reduce :-"
   ]
  },
  {
   "cell_type": "markdown",
   "id": "b026ea06",
   "metadata": {},
   "source": [
    "Q-1 What is the `reduce()` function in Python, and what module should you import to use it? Provide an example of its basic usage.\n"
   ]
  },
  {
   "cell_type": "code",
   "execution_count": 26,
   "id": "e4cd1894",
   "metadata": {},
   "outputs": [
    {
     "name": "stdout",
     "output_type": "stream",
     "text": [
      "15\n"
     ]
    }
   ],
   "source": [
    "#The reduce function is a part of Python’s functools module. It’s used to apply a function to all elements of a list, effectively ‘reducing’ the list to a single output. Here’s a simple example:\n",
    "\n",
    "from functools import reduce\n",
    "numbers = [1, 2, 3, 4, 5]\n",
    "result = reduce(lambda x, y: x+y, numbers)\n",
    "print(result)"
   ]
  },
  {
   "cell_type": "markdown",
   "id": "7ae4d9da",
   "metadata": {},
   "source": [
    "Q-2 Write a Python program that uses the `reduce()` function to find the product of all elements in a list."
   ]
  },
  {
   "cell_type": "code",
   "execution_count": 27,
   "id": "a26c3555",
   "metadata": {},
   "outputs": [
    {
     "name": "stdout",
     "output_type": "stream",
     "text": [
      "The sum of the list elements is : 17\n",
      "The maximum element of the list is : 6\n"
     ]
    }
   ],
   "source": [
    "import functools \n",
    "  \n",
    "# initializing list \n",
    "lis = [1, 3, 5, 6, 2] \n",
    "  \n",
    "# using reduce to compute sum of list \n",
    "print(\"The sum of the list elements is : \", end=\"\") \n",
    "print(functools.reduce(lambda a, b: a+b, lis)) \n",
    "  \n",
    "# using reduce to compute maximum element from list \n",
    "print(\"The maximum element of the list is : \", end=\"\") \n",
    "print(functools.reduce(lambda a, b: a if a > b else b, lis)) "
   ]
  },
  {
   "cell_type": "markdown",
   "id": "c28e2516",
   "metadata": {},
   "source": [
    "Q-3 Create a Python program that uses `reduce()` to find the maximum element in a list of numbers."
   ]
  },
  {
   "cell_type": "code",
   "execution_count": 28,
   "id": "476aa211",
   "metadata": {},
   "outputs": [
    {
     "name": "stdout",
     "output_type": "stream",
     "text": [
      "100\n"
     ]
    }
   ],
   "source": [
    "from functools import reduce\n",
    "lst = [20, 10, 20, 4, 100]\n",
    "largest_elem = reduce(max, lst)\n",
    "print(largest_elem)"
   ]
  },
  {
   "cell_type": "markdown",
   "id": "1037e92c",
   "metadata": {},
   "source": [
    "Q-4 How can you use the `reduce()` function to concatenate a list of strings into a single string?\n"
   ]
  },
  {
   "cell_type": "code",
   "execution_count": 30,
   "id": "2c2a2371",
   "metadata": {},
   "outputs": [
    {
     "name": "stdout",
     "output_type": "stream",
     "text": [
      "hello have a good day\n"
     ]
    }
   ],
   "source": [
    "#To use the reduce() function, we first need to import it from the functools module. Then, we define a function that takes two strings as arguments and concatenates them. The reduce() function applies this function cumulatively to the elements of the list, combining them into a single string\n",
    "from functools import reduce\n",
    " \n",
    "l = ['hello', 'have',\n",
    "     'a', 'good', 'day']\n",
    " \n",
    "# Concatenate all items in list to a string\n",
    "res = reduce(lambda x, y: x + ' ' + y, map(str, l))\n",
    "print(res)"
   ]
  },
  {
   "cell_type": "markdown",
   "id": "6d6f1cdc",
   "metadata": {},
   "source": [
    "Q-5 Write a Python program that calculates the factorial of a number using the `reduce()` function."
   ]
  },
  {
   "cell_type": "code",
   "execution_count": 34,
   "id": "e8ae495a",
   "metadata": {},
   "outputs": [
    {
     "name": "stdout",
     "output_type": "stream",
     "text": [
      "Enter number: 13\n",
      "13 != 6227020800\n"
     ]
    }
   ],
   "source": [
    "from functools import reduce\n",
    "\n",
    "number = int(input('Enter number: '))\n",
    "\n",
    "Factorial = lambda number: reduce(lambda x, y: x * y, range(1, number+1))\n",
    "\n",
    "print('%d != %d' %(number, Factorial(number)))"
   ]
  },
  {
   "cell_type": "markdown",
   "id": "365970ae",
   "metadata": {},
   "source": [
    "Q-6 Create a Python program that uses `reduce()` to find the GCD (Greatest Common Divisor) of a list of numbers.\n"
   ]
  },
  {
   "cell_type": "code",
   "execution_count": null,
   "id": "eff5cfda",
   "metadata": {},
   "outputs": [],
   "source": []
  },
  {
   "cell_type": "markdown",
   "id": "3c464951",
   "metadata": {},
   "source": [
    "Q-7 Write a Python program that uses the `reduce()` function to find the sum of the digits of a given number.\n"
   ]
  },
  {
   "cell_type": "code",
   "execution_count": 40,
   "id": "bdcdc5b4",
   "metadata": {},
   "outputs": [
    {
     "name": "stdout",
     "output_type": "stream",
     "text": [
      "10\n"
     ]
    }
   ],
   "source": [
    "from functools import reduce \n",
    "\n",
    "nums = [1, 2, 3, 4]\n",
    "ans = reduce(lambda x, y: x + y, nums)\n",
    "print(ans) "
   ]
  },
  {
   "cell_type": "markdown",
   "id": "f9d4ae35",
   "metadata": {},
   "source": [
    "# Filter :-"
   ]
  },
  {
   "cell_type": "markdown",
   "id": "173a3da6",
   "metadata": {},
   "source": [
    "Q-1 Explain the purpose of the `filter()` function in Python and provide an example of how it can be used to filter elements from an iterable.\n"
   ]
  },
  {
   "cell_type": "code",
   "execution_count": 41,
   "id": "d4345953",
   "metadata": {},
   "outputs": [
    {
     "name": "stdout",
     "output_type": "stream",
     "text": [
      "18\n",
      "24\n",
      "32\n"
     ]
    }
   ],
   "source": [
    "#The filter function can be applied to an iterable such as a list or a dictionary and create a new iterator. This new iterator can filter out certain specific elements based on the condition that you provide very efficiently. Note: An iterable in Python is an object that you can iterate over.\n",
    "ages = [5, 12, 17, 18, 24, 32]\n",
    "\n",
    "def myFunc(x):\n",
    "  if x < 18:\n",
    "    return False\n",
    "  else:\n",
    "    return True\n",
    "\n",
    "adults = filter(myFunc, ages)\n",
    "\n",
    "for x in adults:\n",
    "  print(x)"
   ]
  },
  {
   "cell_type": "markdown",
   "id": "4aed16d7",
   "metadata": {},
   "source": [
    "Q-2 Write a Python program that uses the `filter()` function to select even numbers from a list of integers.\n"
   ]
  },
  {
   "cell_type": "code",
   "execution_count": 42,
   "id": "4fca9350",
   "metadata": {},
   "outputs": [
    {
     "name": "stdout",
     "output_type": "stream",
     "text": [
      "Original List : [2, 5, 7, 8, 10, 13, 16]\n",
      "Filtered List : [2, 8, 10, 16]\n"
     ]
    }
   ],
   "source": [
    "def even(x):\n",
    "    return x % 2 == 0\n",
    "\n",
    "a = [2, 5, 7, 8, 10, 13, 16]\n",
    "\n",
    "result = filter(even, a)\n",
    "print('Original List :', a)\n",
    "print('Filtered List :', list(result))"
   ]
  },
  {
   "cell_type": "markdown",
   "id": "15fff1cd",
   "metadata": {},
   "source": [
    "Q-3 Create a Python program that uses the `filter()` function to select names that start with a specific letter from a list of strings.\n"
   ]
  },
  {
   "cell_type": "code",
   "execution_count": 44,
   "id": "e8533f64",
   "metadata": {},
   "outputs": [
    {
     "name": "stdout",
     "output_type": "stream",
     "text": [
      "[2, 4, 6, 8, 10]\n"
     ]
    }
   ],
   "source": [
    "list1 = [1, 2, 3, 4, 5, 6, 7, 8, 9 ,10]\n",
    "\n",
    "# empty list\n",
    "even = []\n",
    "\n",
    "# for loop to iterate over list\n",
    "for i in list1:\n",
    "\n",
    "   # filtering condition\n",
    "   if i%2==0:\n",
    "      even.append(i)\n",
    "# printing\n",
    "print(even)"
   ]
  },
  {
   "cell_type": "markdown",
   "id": "1370be85",
   "metadata": {},
   "source": [
    "Q-4 Write a Python program that uses the `filter()` function to select prime numbers from a list of integers."
   ]
  },
  {
   "cell_type": "code",
   "execution_count": 4,
   "id": "35151fa4",
   "metadata": {},
   "outputs": [
    {
     "name": "stdout",
     "output_type": "stream",
     "text": [
      "[2, 3, 5, 7, 11, 13, 17, 19, 23, 29]\n"
     ]
    }
   ],
   "source": [
    "importing math library\n",
    "import math\n",
    "\n",
    "# creating function\n",
    "def main(x):\n",
    "\n",
    "   # checking for negative numbers\n",
    "   if x <= 1:\n",
    "        return False\n",
    "\n",
    "   #  for loop to iterate through number range to find its root if exist\n",
    "   for i in range(2, int(math.sqrt(x)) + 1):\n",
    "        if x % i == 0:\n",
    "            return False\n",
    "\n",
    "   # else return true\n",
    "   return True\n",
    "\n",
    "# using filter function\n",
    "print(list(filter(main, range(30))))"
   ]
  },
  {
   "cell_type": "markdown",
   "id": "a3cf9401",
   "metadata": {},
   "source": [
    "Q-5 How can you use the `filter()` function to remove None values from a list in Python?"
   ]
  },
  {
   "cell_type": "code",
   "execution_count": 5,
   "id": "49243528",
   "metadata": {},
   "outputs": [
    {
     "name": "stdout",
     "output_type": "stream",
     "text": [
      "The original list is : [1, None, 4, None, None, 5, 8, None, False]\n",
      "List after removal of None values : [1, 4, 5, 8, False]\n"
     ]
    }
   ],
   "source": [
    "test_list = [1, None, 4, None, None, 5, 8, None, False]\n",
    " \n",
    "# printing original list\n",
    "print (\"The original list is : \" + str(test_list))\n",
    " \n",
    "# using filter()\n",
    "# to remove None values in list\n",
    "res = list(filter(lambda item: item is not None, test_list))\n",
    " \n",
    "# printing result\n",
    "print (\"List after removal of None values : \" + str(res))"
   ]
  },
  {
   "cell_type": "markdown",
   "id": "9bbd4efd",
   "metadata": {},
   "source": [
    "Q-6 Create a Python program that uses `filter()` to select words longer than a certain length from a list of strings.\n"
   ]
  },
  {
   "cell_type": "code",
   "execution_count": 7,
   "id": "c3f8d0d5",
   "metadata": {},
   "outputs": [
    {
     "name": "stdout",
     "output_type": "stream",
     "text": [
      "<filter object at 0x110bb7e50>\n"
     ]
    }
   ],
   "source": [
    "data = ['hello', 'communication', 'be', 'dog', 'test']\n",
    "filtered_list = filter(lambda x: len(x) > 4 and len(x) < 8, data)\n",
    "print(filtered_list)"
   ]
  },
  {
   "cell_type": "markdown",
   "id": "22034f41",
   "metadata": {},
   "source": [
    "Q-7 Write a Python program that uses the `filter()` function to select elements greater than a specified threshold from a list of values."
   ]
  },
  {
   "cell_type": "code",
   "execution_count": 9,
   "id": "1ff24404",
   "metadata": {},
   "outputs": [
    {
     "name": "stdout",
     "output_type": "stream",
     "text": [
      "The original list : ['gfg', 'is', 'best', 'for', 'skills']\n",
      "The above Threshold size strings are : ['best', 'skills']\n"
     ]
    }
   ],
   "source": [
    "test_list = ['gfg', 'is', 'best', 'for', 'skills']\n",
    " \n",
    "# Printing original list\n",
    "print(\"The original list : \" + str(test_list))\n",
    " \n",
    "# Initialize Threshold\n",
    "thres = 4\n",
    " \n",
    "# Filter above Threshold size Strings\n",
    "# using filter() + lambda\n",
    "res = list(filter(lambda ele: len(ele) >= thres, test_list))\n",
    " \n",
    "# Printing result\n",
    "print(\"The above Threshold size strings are : \" + str(res))"
   ]
  },
  {
   "cell_type": "markdown",
   "id": "d2feb266",
   "metadata": {},
   "source": [
    "# Recursion:-"
   ]
  },
  {
   "cell_type": "markdown",
   "id": "0c4b24ea",
   "metadata": {},
   "source": [
    "Q-1 Explain the concept of recursion in Python. How does it differ from iteration?\n"
   ]
  },
  {
   "cell_type": "markdown",
   "id": "88e8401c",
   "metadata": {},
   "source": [
    "Difference Between Recursion and Iteration\n",
    "Recursion and iteration are both different ways to execute a set of instructions repeatedly. The main difference between these two is that in recursion, we use function calls to execute the statements repeatedly inside the function body, while in iteration, we use loops like “for” and “while” to do the same."
   ]
  },
  {
   "cell_type": "markdown",
   "id": "2562c0e0",
   "metadata": {},
   "source": [
    "Q-2  Write a Python program to calculate the factorial of a number using recursion."
   ]
  },
  {
   "cell_type": "code",
   "execution_count": 10,
   "id": "8f7d568a",
   "metadata": {},
   "outputs": [
    {
     "name": "stdout",
     "output_type": "stream",
     "text": [
      "The factorial of 7 is 5040\n"
     ]
    }
   ],
   "source": [
    "# Factorial of a number using recursion\n",
    "\n",
    "def recur_factorial(n):\n",
    "   if n == 1:\n",
    "       return n\n",
    "   else:\n",
    "       return n*recur_factorial(n-1)\n",
    "\n",
    "num = 7\n",
    "\n",
    "# check if the number is negative\n",
    "if num < 0:\n",
    "   print(\"Sorry, factorial does not exist for negative numbers\")\n",
    "elif num == 0:\n",
    "   print(\"The factorial of 0 is 1\")\n",
    "else:\n",
    "   print(\"The factorial of\", num, \"is\", recur_factorial(num))"
   ]
  },
  {
   "cell_type": "markdown",
   "id": "dc6ed88b",
   "metadata": {},
   "source": [
    "Q-3 Create a recursive Python function to find the nth Fibonacci number.\n"
   ]
  },
  {
   "cell_type": "code",
   "execution_count": 11,
   "id": "69e83e3b",
   "metadata": {},
   "outputs": [
    {
     "name": "stdout",
     "output_type": "stream",
     "text": [
      "Fibonacci sequence:\n",
      "0\n",
      "1\n",
      "1\n",
      "2\n",
      "3\n",
      "5\n",
      "8\n",
      "13\n",
      "21\n",
      "34\n"
     ]
    }
   ],
   "source": [
    "def recur_fibo(n):\n",
    "   if n <= 1:\n",
    "       return n\n",
    "   else:\n",
    "       return(recur_fibo(n-1) + recur_fibo(n-2))\n",
    "\n",
    "nterms = 10\n",
    "\n",
    "# check if the number of terms is valid\n",
    "if nterms <= 0:\n",
    "   print(\"Plese enter a positive integer\")\n",
    "else:\n",
    "   print(\"Fibonacci sequence:\")\n",
    "   for i in range(nterms):\n",
    "       print(recur_fibo(i))"
   ]
  },
  {
   "cell_type": "markdown",
   "id": "c4ba937e",
   "metadata": {},
   "source": [
    "Q-4 Write a recursive Python function to calculate the sum of all elements in a list"
   ]
  },
  {
   "cell_type": "code",
   "execution_count": 13,
   "id": "7c2f09a2",
   "metadata": {},
   "outputs": [
    {
     "name": "stdout",
     "output_type": "stream",
     "text": [
      "15\n"
     ]
    }
   ],
   "source": [
    "def findSum(list1): \n",
    "     if len(list1)== 1: \n",
    "        return list1[0] \n",
    "     else: \n",
    "        return list1[0]+findSum(list1[1:]) \n",
    "  \n",
    "# driver code \n",
    "list1 =[] \n",
    "# input values to list \n",
    "list1 = [1, 2, 3, 4, 5] \n",
    "print(findSum(list1))"
   ]
  },
  {
   "cell_type": "markdown",
   "id": "0eda6e08",
   "metadata": {},
   "source": [
    "Q-5 How can you prevent a recursive function from running indefinitely, causing a stack overflow error?"
   ]
  },
  {
   "cell_type": "markdown",
   "id": "84713030",
   "metadata": {},
   "source": [
    "In order to prevent stack overflow bugs, you must have a base case where the function stops make new recursive calls. If there is no base case then the function calls will never stop and eventually a stack overflow will occur. Here is an example of a recursive function with a base case."
   ]
  },
  {
   "cell_type": "markdown",
   "id": "446b3a7f",
   "metadata": {},
   "source": [
    "Q-6 Create a recursive Python function to find the greatest common divisor (GCD) of two numbers using the Euclidean algorithm."
   ]
  },
  {
   "cell_type": "code",
   "execution_count": 14,
   "id": "96bb6a1b",
   "metadata": {},
   "outputs": [
    {
     "name": "stdout",
     "output_type": "stream",
     "text": [
      "GCD of 36 and 60 is 12\n"
     ]
    }
   ],
   "source": [
    "def findGCD(num1, num2):\n",
    "    \n",
    "    # Everything divides 0\n",
    "    if num1 == 0 or num2 == 0:\n",
    "        return num1 + num2\n",
    "    \n",
    "    # base case\n",
    "    if num1 == num2:\n",
    "        return num1\n",
    "    \n",
    "    # num1>num2\n",
    "    if num1 > num2:\n",
    "        return findGCD(num1 - num2, num2)\n",
    "    else:\n",
    "        return findGCD(num1, num2 - num1)\n",
    "\n",
    "\n",
    "num1 = 36\n",
    "num2 = 60\n",
    "\n",
    "print(\"GCD of\", num1, \"and\", num2, \"is\", findGCD(num1, num2))"
   ]
  },
  {
   "cell_type": "markdown",
   "id": "290ae85e",
   "metadata": {},
   "source": [
    "Q-7 Write a recursive Python function to reverse a string."
   ]
  },
  {
   "cell_type": "code",
   "execution_count": 16,
   "id": "508e2671",
   "metadata": {},
   "outputs": [
    {
     "name": "stdout",
     "output_type": "stream",
     "text": [
      "The original string is : pwskills\n",
      "The reversed string(using recursion) is : sllikswp\n"
     ]
    }
   ],
   "source": [
    "def reverse(s):\n",
    "    if len(s) == 0:\n",
    "        return s\n",
    "    else:\n",
    "        return reverse(s[1:]) + s[0]\n",
    " \n",
    " \n",
    "s = \"pwskills\"\n",
    " \n",
    "print(\"The original string is : \", end=\"\")\n",
    "print(s)\n",
    " \n",
    "print(\"The reversed string(using recursion) is : \", end=\"\")\n",
    "print(reverse(s))"
   ]
  },
  {
   "cell_type": "markdown",
   "id": "f2967914",
   "metadata": {},
   "source": [
    "Q-8 Create a recursive Python function to calculate the power of a number (x^n).\n"
   ]
  },
  {
   "cell_type": "code",
   "execution_count": 17,
   "id": "170a0594",
   "metadata": {},
   "outputs": [
    {
     "name": "stdout",
     "output_type": "stream",
     "text": [
      "Enter value of base: 5\n",
      "Enter value of exponent: 6\n",
      "Result is: 15625.0\n"
     ]
    }
   ],
   "source": [
    "def power(x,n):\n",
    "    if n==0:\n",
    "        return 1\n",
    "    else:\n",
    "        return x * power(x, n-1)\n",
    "\n",
    "# Reading base and exponent \n",
    "base = float(input(\"Enter value of base: \"))\n",
    "exponent = int(input(\"Enter value of exponent: \"))\n",
    "\n",
    "# Function call\n",
    "result = power(base, exponent)\n",
    "\n",
    "# Displaying result\n",
    "print(\"Result is:\", result)"
   ]
  },
  {
   "cell_type": "markdown",
   "id": "ddabf5ae",
   "metadata": {},
   "source": [
    "Q-9 Write a recursive Python function to find all permutations of a given string."
   ]
  },
  {
   "cell_type": "code",
   "execution_count": 18,
   "id": "60a16bcc",
   "metadata": {},
   "outputs": [
    {
     "name": "stdout",
     "output_type": "stream",
     "text": [
      "['abc', 'acb', 'bac', 'bca', 'cab', 'cba']\n"
     ]
    }
   ],
   "source": [
    "def find_permutations(s):\n",
    "    if len(s) == 1:\n",
    "        return [s]\n",
    "    else:\n",
    "        perms = []\n",
    "        for i, c in enumerate(s):\n",
    "            for perm in find_permutations(s[:i] + s[i+1:]):\n",
    "                perms.append(c + perm)\n",
    "        return perms\n",
    " \n",
    "s = 'abc'\n",
    "print(find_permutations(s))"
   ]
  },
  {
   "cell_type": "markdown",
   "id": "0f7ca4c0",
   "metadata": {},
   "source": [
    "Q-11 Create a recursive Python function to generate all possible combinations of a list of elements."
   ]
  },
  {
   "cell_type": "code",
   "execution_count": 20,
   "id": "11d9f56f",
   "metadata": {},
   "outputs": [
    {
     "name": "stdout",
     "output_type": "stream",
     "text": [
      "[[], [1], [2], [1, 2], [3], [1, 3], [2, 3], [1, 2, 3]]\n"
     ]
    }
   ],
   "source": [
    "def combinations(l):\n",
    "    if l:\n",
    "      result = combinations(l[:-1])\n",
    "      return result + [c + [l[-1]] for c in result]\n",
    "    else:\n",
    "      return [[]]\n",
    "\n",
    "print(combinations([1,2,3]))"
   ]
  },
  {
   "cell_type": "markdown",
   "id": "0c170497",
   "metadata": {},
   "source": [
    "# Basics of Functions:\n"
   ]
  },
  {
   "cell_type": "markdown",
   "id": "2343925a",
   "metadata": {},
   "source": [
    "Q-1 What is a function in Python, and why is it used?"
   ]
  },
  {
   "cell_type": "markdown",
   "id": "241b8644",
   "metadata": {},
   "source": [
    "Functions in Python. You use functions in programming to bundle a set of instructions that you want to use repeatedly or that, because of their complexity, are better self-contained in a sub-program and called when needed. That means that a function is a piece of code written to carry out a specified task."
   ]
  },
  {
   "cell_type": "markdown",
   "id": "4574f4bb",
   "metadata": {},
   "source": [
    "Q-2 How do you define a function in Python? Provide an example.\n"
   ]
  },
  {
   "cell_type": "code",
   "execution_count": 22,
   "id": "da311551",
   "metadata": {},
   "outputs": [
    {
     "name": "stdout",
     "output_type": "stream",
     "text": [
      "Hello from a function\n"
     ]
    }
   ],
   "source": [
    "#A function is a block of code which only runs when it is called.You can pass data, known as parameters, into a function.\n",
    "#A function can return data as a result.\n",
    "\n",
    "def my_function():\n",
    "  print(\"Hello from a function\")\n",
    "\n",
    "my_function()"
   ]
  },
  {
   "cell_type": "markdown",
   "id": "162d698f",
   "metadata": {},
   "source": [
    "Q-3 Explain the difference between a function definition and a function call."
   ]
  },
  {
   "cell_type": "markdown",
   "id": "4b81ff2d",
   "metadata": {},
   "source": [
    "declare and define are the same, and they mean when you write all the code for your function. At that point the function just sits there doing nothing.\n",
    "\n",
    "call is when you tell the JavaScript interpreter to run the code in your function."
   ]
  },
  {
   "cell_type": "markdown",
   "id": "460aa995",
   "metadata": {},
   "source": [
    "Q-4 Write a Python program that defines a function to calculate the sum of two numbers and then calls the function."
   ]
  },
  {
   "cell_type": "code",
   "execution_count": 23,
   "id": "e414420c",
   "metadata": {},
   "outputs": [
    {
     "name": "stdout",
     "output_type": "stream",
     "text": [
      "The sum is 80\n"
     ]
    }
   ],
   "source": [
    "def add_num(a,b):#function for addition\n",
    "    sum=a+b;\n",
    "    return sum; #return value\n",
    "num1=25  #variable declaration\n",
    "num2=55\n",
    "print(\"The sum is\",add_num(num1,num2))"
   ]
  },
  {
   "cell_type": "markdown",
   "id": "1cc51614",
   "metadata": {},
   "source": [
    "Q-5 What is a function signature, and what information does it typically include?"
   ]
  },
  {
   "cell_type": "markdown",
   "id": "93fecffd",
   "metadata": {},
   "source": [
    "\n",
    "A function signature consists of the function prototype. It specifies the general information about a function like the name, scope and parameters. Many programming languages use name mangling in order to pass along more semantic information from the compilers to the linkers."
   ]
  },
  {
   "cell_type": "markdown",
   "id": "2aeb7a7d",
   "metadata": {},
   "source": [
    "Q-6 Create a Python function that takes two arguments and returns their product.\n"
   ]
  },
  {
   "cell_type": "code",
   "execution_count": 24,
   "id": "ff444574",
   "metadata": {},
   "outputs": [
    {
     "name": "stdout",
     "output_type": "stream",
     "text": [
      "10\n",
      "3.3333333333333335\n",
      "3\n",
      "42\n",
      "3\n",
      "1\n"
     ]
    }
   ],
   "source": [
    "def multiply(a, b):\n",
    "  return a*b\n",
    "\n",
    "\n",
    "def divide(a, b):\n",
    "  return a/b\n",
    "\n",
    "\n",
    "def integer_divide(a, b):\n",
    "  return a//b\n",
    "\n",
    "def add(a, b):\n",
    "  return a+b\n",
    "\n",
    "def subtract(a, b):\n",
    "  return a-b\n",
    "\n",
    "def modulo(a, b):\n",
    "  return a%b\n",
    "\n",
    "print(multiply(2,5))\n",
    "print(divide(10,3))\n",
    "print(integer_divide(10,3))\n",
    "print(add(2,40))\n",
    "print(subtract(5,2))\n",
    "print(modulo(10,3))"
   ]
  },
  {
   "cell_type": "markdown",
   "id": "5e0f2334",
   "metadata": {},
   "source": [
    "# Function Parameters and Arguments:"
   ]
  },
  {
   "cell_type": "markdown",
   "id": "cc616b7f",
   "metadata": {},
   "source": [
    "Q-1 Explain the concepts of formal parameters and actual arguments in Python functions.\n"
   ]
  },
  {
   "cell_type": "markdown",
   "id": "7acea9e6",
   "metadata": {},
   "source": [
    "Actual Parameters vary from Formal Parameters in that Actual Parameters are values supplied to the function when it is invoked, whereas Formal Parameters are variables declared by the function that get values when the function is called.\n",
    "\n"
   ]
  },
  {
   "cell_type": "raw",
   "id": "d373a650",
   "metadata": {},
   "source": [
    "Q-2 Write a Python program that defines a function with default argument values."
   ]
  },
  {
   "cell_type": "code",
   "execution_count": 25,
   "id": "903fc658",
   "metadata": {},
   "outputs": [
    {
     "name": "stdout",
     "output_type": "stream",
     "text": [
      "Sum: 5\n"
     ]
    }
   ],
   "source": [
    "def add_numbers(a, b):\n",
    "    sum = a + b\n",
    "    print('Sum:', sum)\n",
    "\n",
    "add_numbers(2, 3)"
   ]
  },
  {
   "cell_type": "raw",
   "id": "5958480b",
   "metadata": {},
   "source": [
    "Q-3 How do you use keyword arguments in Python function calls? Provide an example."
   ]
  },
  {
   "cell_type": "code",
   "execution_count": 28,
   "id": "82d8a9da",
   "metadata": {},
   "outputs": [
    {
     "name": "stdout",
     "output_type": "stream",
     "text": [
      "Sum: 9\n"
     ]
    }
   ],
   "source": [
    "#In computer programming, an argument is a value that is accepted by a function.\n",
    "def add_numbers(a, b):\n",
    "    sum = a + b\n",
    "    print('Sum:', sum)\n",
    "\n",
    "add_numbers(2, 7)\n"
   ]
  },
  {
   "cell_type": "raw",
   "id": "11e9bfb1",
   "metadata": {},
   "source": [
    "Q-4 Create a Python function that accepts a variable number of arguments and calculates their sum."
   ]
  },
  {
   "cell_type": "code",
   "execution_count": 29,
   "id": "d4297415",
   "metadata": {},
   "outputs": [],
   "source": [
    "def sum_all(*args): \n",
    "    t=() \n",
    "    s=0 \n",
    "    for i in args: \n",
    "        s=s+i \n",
    "    print(s) "
   ]
  },
  {
   "cell_type": "code",
   "execution_count": 31,
   "id": "513ba751",
   "metadata": {},
   "outputs": [
    {
     "name": "stdout",
     "output_type": "stream",
     "text": [
      "100\n"
     ]
    }
   ],
   "source": [
    "sum_all(10, 20, 30, 40) \n"
   ]
  },
  {
   "cell_type": "raw",
   "id": "b08df85e",
   "metadata": {},
   "source": [
    "Q-5 What is the purpose of the `*args` and `**kwargs` syntax in function parameter lists?\n"
   ]
  },
  {
   "cell_type": "markdown",
   "id": "cb393211",
   "metadata": {},
   "source": [
    "*args passes variable number of non-keyworded arguments and on which operation of the tuple can be performed. **kwargs passes variable number of keyword arguments dictionary to function on which operation of a dictionary can be performed."
   ]
  },
  {
   "cell_type": "markdown",
   "id": "2b7518a2",
   "metadata": {},
   "source": [
    "# Return Values and Scoping:"
   ]
  },
  {
   "cell_type": "raw",
   "id": "2163ba14",
   "metadata": {},
   "source": [
    "Q-1 Describe the role of the `return` statement in Python functions and provide examples."
   ]
  },
  {
   "cell_type": "code",
   "execution_count": 33,
   "id": "9cc1e502",
   "metadata": {},
   "outputs": [
    {
     "name": "stdout",
     "output_type": "stream",
     "text": [
      "Result of add function is 5\n",
      "\n",
      "Result of is_true function is True\n"
     ]
    }
   ],
   "source": [
    "\n",
    "#The Python return statement is a special statement that you can use inside a function or method to send the function's result back to the caller. A return statement consists of the return keyword followed by an optional return value. The return value of a Python function can be any Python object.\n",
    "def add(a, b):\n",
    " \n",
    "\n",
    "    return a + b\n",
    " \n",
    "def is_true(a):\n",
    " \n",
    "    return bool(a)\n",
    "\n",
    "res = add(2, 3)\n",
    "print(\"Result of add function is {}\".format(res))\n",
    " \n",
    "res = is_true(2<5)\n",
    "print(\"\\nResult of is_true function is {}\".format(res))\n"
   ]
  },
  {
   "cell_type": "raw",
   "id": "ed519479",
   "metadata": {},
   "source": [
    "Q-2 Explain the concept of variable scope in Python, including local and global variables.\n"
   ]
  },
  {
   "cell_type": "markdown",
   "id": "90f94415",
   "metadata": {},
   "source": [
    "Python Global variables are those which are not defined inside any function and have a global scope whereas Python local variables are those which are defined inside a function and their scope is limited to that function only"
   ]
  },
  {
   "cell_type": "raw",
   "id": "e4a60f93",
   "metadata": {},
   "source": [
    "Q-3 Write a Python program that demonstrates the use of global variables within functions.\n"
   ]
  },
  {
   "cell_type": "markdown",
   "id": "1bd352c1",
   "metadata": {},
   "source": [
    "Variables that are created outside of a function (as in all of the examples above) are known as global variables.\n",
    "\n",
    "Global variables can be used by everyone, both inside of functions and outside."
   ]
  },
  {
   "cell_type": "code",
   "execution_count": 34,
   "id": "a2bdbbcc",
   "metadata": {},
   "outputs": [
    {
     "name": "stdout",
     "output_type": "stream",
     "text": [
      "Python is awesome\n"
     ]
    }
   ],
   "source": [
    "x = \"awesome\"\n",
    "\n",
    "def myfunc():\n",
    "  print(\"Python is \" + x)\n",
    "\n",
    "myfunc()"
   ]
  },
  {
   "cell_type": "raw",
   "id": "02fa1c0b",
   "metadata": {},
   "source": [
    "Q-4 Create a Python function that calculates the factorial of a number and returns it.\n"
   ]
  },
  {
   "cell_type": "code",
   "execution_count": 35,
   "id": "ee34b2ad",
   "metadata": {},
   "outputs": [
    {
     "name": "stdout",
     "output_type": "stream",
     "text": [
      "Input a number to compute the factiorial : 4\n",
      "24\n"
     ]
    }
   ],
   "source": [
    "def factorial(n):\n",
    "    if n == 0:\n",
    "        return 1\n",
    "    else:\n",
    "        return n * factorial(n-1)\n",
    "n=int(input(\"Input a number to compute the factiorial : \"))\n",
    "print(factorial(n))"
   ]
  },
  {
   "cell_type": "raw",
   "id": "2035420d",
   "metadata": {},
   "source": [
    "Q-5 How can you access variables defined outside a function from within the function?\n",
    "\n"
   ]
  },
  {
   "cell_type": "markdown",
   "id": "118af094",
   "metadata": {},
   "source": [
    "\n",
    "You can access such variables inside and outside of a function, as they have global scope. The variable x in the code above was declared outside a function: x = 10 . Using the showX() function, we were still able to access x because it was declared in a global scope."
   ]
  },
  {
   "cell_type": "markdown",
   "id": "b59992a3",
   "metadata": {},
   "source": [
    "# Lambda Functions and Higher-Order Functions:\n"
   ]
  },
  {
   "cell_type": "markdown",
   "id": "6c8ac35b",
   "metadata": {},
   "source": [
    "Q-1 What are lambda functions in Python, and when are they typically used?\n"
   ]
  },
  {
   "cell_type": "markdown",
   "id": "c83b2fa9",
   "metadata": {},
   "source": [
    "Lambda functions are similar to user-defined functions but without a name. They're commonly referred to as anonymous functions. Lambda functions are efficient whenever you want to create a function that will only contain simple expressions – that is, expressions that are usually a single line of a statement"
   ]
  },
  {
   "cell_type": "raw",
   "id": "d0c0180d",
   "metadata": {},
   "source": [
    "Q-2 Write a Python program that uses lambda functions to sort a list of tuples based on the second element.\n"
   ]
  },
  {
   "cell_type": "code",
   "execution_count": 38,
   "id": "cf08d0f9",
   "metadata": {},
   "outputs": [
    {
     "name": "stdout",
     "output_type": "stream",
     "text": [
      "Original list of tuples:\n",
      "[('English', 88), ('Science', 90), ('Maths', 97), ('Social sciences', 82)]\n",
      "\n",
      "Sorting the List of Tuples:\n",
      "[('Social sciences', 82), ('English', 88), ('Science', 90), ('Maths', 97)]\n"
     ]
    }
   ],
   "source": [
    "subject_marks = [('English', 88), ('Science', 90), ('Maths', 97), ('Social sciences', 82)]\n",
    "print(\"Original list of tuples:\")\n",
    "print(subject_marks)\n",
    "subject_marks.sort(key = lambda x: x[1])\n",
    "print(\"\\nSorting the List of Tuples:\")\n",
    "print(subject_marks)"
   ]
  },
  {
   "cell_type": "markdown",
   "id": "41d9133b",
   "metadata": {},
   "source": [
    "Q-3 Explain the concept of higher-order functions in Python, and provide an example.\n"
   ]
  },
  {
   "cell_type": "markdown",
   "id": "db081467",
   "metadata": {},
   "source": [
    "Higher-order functions are functions that take a function as a parameter and/or return a function as an output. A few useful higher-order functions are map() , filter() , and reduce() . map() and filter() are built-in functions, whereas reduce() is contained in functools() module."
   ]
  },
  {
   "cell_type": "code",
   "execution_count": 37,
   "id": "44e17407",
   "metadata": {},
   "outputs": [
    {
     "name": "stdout",
     "output_type": "stream",
     "text": [
      "HELLO\n",
      "HELLO\n"
     ]
    }
   ],
   "source": [
    "def shout(text):  \n",
    "    return text.upper()  \n",
    "    \n",
    "print(shout('Hello'))  \n",
    "    \n",
    "# Assigning function to a variable \n",
    "yell = shout  \n",
    "    \n",
    "print(yell('Hello')) "
   ]
  },
  {
   "cell_type": "markdown",
   "id": "cee4e827",
   "metadata": {},
   "source": [
    "# Built-in Functions:"
   ]
  },
  {
   "cell_type": "markdown",
   "id": "4643db5b",
   "metadata": {},
   "source": [
    "Q-1 Describe the role of built-in functions like `len()`, `max()`, and `min()` in Python.\n"
   ]
  },
  {
   "cell_type": "code",
   "execution_count": 46,
   "id": "b8c9de0f",
   "metadata": {},
   "outputs": [
    {
     "name": "stdout",
     "output_type": "stream",
     "text": [
      "10\n"
     ]
    }
   ],
   "source": [
    "List = [1, 2, 3, 1, 2, 1, 2, 3, 2, 1] \n",
    "print(len(List))"
   ]
  },
  {
   "cell_type": "raw",
   "id": "2de888b7",
   "metadata": {},
   "source": [
    "Q-2 Write a Python program that uses the `map()` function to apply a function to each element of a list."
   ]
  },
  {
   "cell_type": "code",
   "execution_count": 47,
   "id": "f139c06d",
   "metadata": {},
   "outputs": [
    {
     "name": "stdout",
     "output_type": "stream",
     "text": [
      "[2, 4, 6, 8]\n"
     ]
    }
   ],
   "source": [
    "def addition(n): \n",
    "    return n + n \n",
    "  \n",
    "\n",
    "numbers = (1, 2, 3, 4) \n",
    "result = map(addition, numbers) \n",
    "print(list(result)) "
   ]
  },
  {
   "cell_type": "raw",
   "id": "3ff32c3e",
   "metadata": {},
   "source": [
    "Q-3 How does the `filter()` function work in Python, and when would you use it?\n"
   ]
  },
  {
   "cell_type": "markdown",
   "id": "b8ae9f49",
   "metadata": {},
   "source": [
    "Filter() is a built-in function in Python. The filter function can be applied to an iterable such as a list or a dictionary and create a new iterator. This new iterator can filter out certain specific elements based on the condition that you provide very efficiently."
   ]
  },
  {
   "cell_type": "raw",
   "id": "ee324a7a",
   "metadata": {},
   "source": [
    "Q-4 Create a Python program that uses the `reduce()` function to find the product of all elements in a list."
   ]
  },
  {
   "cell_type": "code",
   "execution_count": 48,
   "id": "24c97216",
   "metadata": {},
   "outputs": [
    {
     "name": "stdout",
     "output_type": "stream",
     "text": [
      "The sum of the list elements is : 17\n",
      "The maximum element of the list is : 6\n"
     ]
    }
   ],
   "source": [
    "import functools \n",
    "  \n",
    "\n",
    "lis = [1, 3, 5, 6, 2] \n",
    "\n",
    "print(\"The sum of the list elements is : \", end=\"\") \n",
    "print(functools.reduce(lambda a, b: a+b, lis)) \n",
    "  \n",
    "print(\"The maximum element of the list is : \", end=\"\") \n",
    "print(functools.reduce(lambda a, b: a if a > b else b, lis)) "
   ]
  },
  {
   "cell_type": "markdown",
   "id": "152a7613",
   "metadata": {},
   "source": [
    "# Function Documentation and Best Practices:"
   ]
  },
  {
   "cell_type": "markdown",
   "id": "749a2d00",
   "metadata": {},
   "source": [
    "Q-1 Explain the purpose of docstrings in Python functions and how to write them.\n"
   ]
  },
  {
   "cell_type": "markdown",
   "id": "892e9ebd",
   "metadata": {},
   "source": [
    "A Python docstring is a string used to document a Python module, class, function or method, so programmers can understand what it does without having to read the details of the implementation.\n",
    "Also, it is a common practice to generate online (html) documentation automatically from docstrings."
   ]
  },
  {
   "cell_type": "code",
   "execution_count": null,
   "id": "a73ed34a",
   "metadata": {},
   "outputs": [],
   "source": []
  }
 ],
 "metadata": {
  "kernelspec": {
   "display_name": "Python 3 (ipykernel)",
   "language": "python",
   "name": "python3"
  },
  "language_info": {
   "codemirror_mode": {
    "name": "ipython",
    "version": 3
   },
   "file_extension": ".py",
   "mimetype": "text/x-python",
   "name": "python",
   "nbconvert_exporter": "python",
   "pygments_lexer": "ipython3",
   "version": "3.11.4"
  }
 },
 "nbformat": 4,
 "nbformat_minor": 5
}
